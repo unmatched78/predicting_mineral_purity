{
  "metadata": {
    "kernelspec": {
      "name": "python3",
      "display_name": "Python 3",
      "language": "python"
    },
    "language_info": {
      "name": "python",
      "version": "3.10.12",
      "mimetype": "text/x-python",
      "codemirror_mode": {
        "name": "ipython",
        "version": 3
      },
      "pygments_lexer": "ipython3",
      "nbconvert_exporter": "python",
      "file_extension": ".py"
    },
    "kaggle": {
      "accelerator": "none",
      "dataSources": [
        {
          "sourceId": 9223,
          "sourceType": "datasetVersion",
          "datasetId": 6294
        }
      ],
      "dockerImageVersionId": 30918,
      "isInternetEnabled": true,
      "language": "python",
      "sourceType": "notebook",
      "isGpuEnabled": false
    },
    "colab": {
      "name": "notebookb02",
      "provenance": [],
      "include_colab_link": true
    }
  },
  "nbformat_minor": 0,
  "nbformat": 4,
  "cells": [
    {
      "cell_type": "markdown",
      "metadata": {
        "id": "view-in-github",
        "colab_type": "text"
      },
      "source": [
        "<a href=\"https://colab.research.google.com/github/unmatched78/predicting_mineral_purity/blob/main/notebookb02.ipynb\" target=\"_parent\"><img src=\"https://colab.research.google.com/assets/colab-badge.svg\" alt=\"Open In Colab\"/></a>"
      ]
    },
    {
      "source": [
        "# IMPORTANT: RUN THIS CELL IN ORDER TO IMPORT YOUR KAGGLE DATA SOURCES,\n",
        "# THEN FEEL FREE TO DELETE THIS CELL.\n",
        "# NOTE: THIS NOTEBOOK ENVIRONMENT DIFFERS FROM KAGGLE'S PYTHON\n",
        "# ENVIRONMENT SO THERE MAY BE MISSING LIBRARIES USED BY YOUR\n",
        "# NOTEBOOK.\n",
        "import kagglehub\n",
        "edumagalhaes_quality_prediction_in_a_mining_process_path = kagglehub.dataset_download('edumagalhaes/quality-prediction-in-a-mining-process')\n",
        "\n",
        "print('Data source import complete.')\n"
      ],
      "metadata": {
        "id": "um90eZkWn88S"
      },
      "cell_type": "code",
      "outputs": [],
      "execution_count": null
    },
    {
      "cell_type": "code",
      "source": [
        "import pandas as pd\n",
        "import numpy as np\n",
        "import matplotlib.pyplot as plt\n",
        "import seaborn as sns\n",
        "from sklearn.model_selection import train_test_split, GridSearchCV\n",
        "from sklearn.preprocessing import StandardScaler\n",
        "from sklearn.linear_model import LinearRegression\n",
        "from sklearn.ensemble import RandomForestRegressor, GradientBoostingRegressor\n",
        "from sklearn.metrics import mean_squared_error, mean_absolute_error, r2_score\n",
        "import warnings\n",
        "warnings.filterwarnings('ignore')"
      ],
      "metadata": {
        "trusted": true,
        "execution": {
          "iopub.status.busy": "2025-03-21T14:03:09.786551Z",
          "iopub.execute_input": "2025-03-21T14:03:09.787036Z",
          "iopub.status.idle": "2025-03-21T14:03:09.793698Z",
          "shell.execute_reply.started": "2025-03-21T14:03:09.786958Z",
          "shell.execute_reply": "2025-03-21T14:03:09.792089Z"
        },
        "id": "PDsyXJvTn88X"
      },
      "outputs": [],
      "execution_count": null
    },
    {
      "cell_type": "code",
      "source": [
        "df = pd.read_csv('/kaggle/input/quality-prediction-in-a-mining-process/MiningProcess_Flotation_Plant_Database.csv')\n"
      ],
      "metadata": {
        "trusted": true,
        "execution": {
          "iopub.status.busy": "2025-03-21T14:03:09.795411Z",
          "iopub.execute_input": "2025-03-21T14:03:09.79577Z",
          "iopub.status.idle": "2025-03-21T14:03:18.004691Z",
          "shell.execute_reply.started": "2025-03-21T14:03:09.79574Z",
          "shell.execute_reply": "2025-03-21T14:03:18.00335Z"
        },
        "id": "IRQW6eIYn88Y"
      },
      "outputs": [],
      "execution_count": null
    },
    {
      "cell_type": "code",
      "source": [
        "# Check the first few rows\n",
        "print(\"First 5 rows of the dataset:\")\n",
        "print(df.head())\n",
        "print(\"\\n\")"
      ],
      "metadata": {
        "trusted": true,
        "execution": {
          "iopub.status.busy": "2025-03-21T14:03:18.010192Z",
          "iopub.execute_input": "2025-03-21T14:03:18.01056Z",
          "iopub.status.idle": "2025-03-21T14:03:18.047527Z",
          "shell.execute_reply.started": "2025-03-21T14:03:18.010533Z",
          "shell.execute_reply": "2025-03-21T14:03:18.045349Z"
        },
        "id": "jwP0ORCzn88Y"
      },
      "outputs": [],
      "execution_count": null
    },
    {
      "cell_type": "code",
      "source": [
        "# Check data types and missing values\n",
        "print(\"Data types and missing values:\")\n",
        "print(df.info())\n",
        "print(\"\\n\")"
      ],
      "metadata": {
        "trusted": true,
        "execution": {
          "iopub.status.busy": "2025-03-21T14:03:18.049765Z",
          "iopub.execute_input": "2025-03-21T14:03:18.050162Z",
          "iopub.status.idle": "2025-03-21T14:03:18.985861Z",
          "shell.execute_reply.started": "2025-03-21T14:03:18.05013Z",
          "shell.execute_reply": "2025-03-21T14:03:18.984896Z"
        },
        "id": "AyJpQGzXn88Z"
      },
      "outputs": [],
      "execution_count": null
    },
    {
      "cell_type": "code",
      "source": [
        "# Summary statistics\n",
        "print(\"Summary statistics:\")\n",
        "print(df.describe())\n",
        "print(\"\\n\")"
      ],
      "metadata": {
        "trusted": true,
        "execution": {
          "iopub.status.busy": "2025-03-21T14:03:18.986853Z",
          "iopub.execute_input": "2025-03-21T14:03:18.987135Z",
          "iopub.status.idle": "2025-03-21T14:03:26.915627Z",
          "shell.execute_reply.started": "2025-03-21T14:03:18.987111Z",
          "shell.execute_reply": "2025-03-21T14:03:26.914387Z"
        },
        "id": "Kd2tGk0Yn88Z"
      },
      "outputs": [],
      "execution_count": null
    },
    {
      "cell_type": "code",
      "source": [
        "# Check for missing values\n",
        "print(\"Missing values count:\")\n",
        "missing_values = df.isnull().sum()\n",
        "print(missing_values[missing_values > 0])\n",
        "print(f\"Total missing values: {df.isnull().sum().sum()}\")\n",
        "print(\"\\n\")"
      ],
      "metadata": {
        "trusted": true,
        "execution": {
          "iopub.status.busy": "2025-03-21T14:03:26.916715Z",
          "iopub.execute_input": "2025-03-21T14:03:26.917036Z",
          "iopub.status.idle": "2025-03-21T14:03:28.741444Z",
          "shell.execute_reply.started": "2025-03-21T14:03:26.917011Z",
          "shell.execute_reply": "2025-03-21T14:03:28.739703Z"
        },
        "id": "f5U6OIenn88Z"
      },
      "outputs": [],
      "execution_count": null
    },
    {
      "cell_type": "code",
      "source": [
        "# Fix data format issues - replace commas with dots and convert to float\n",
        "for column in df.columns:\n",
        "    if df[column].dtype == 'object':\n",
        "        try:\n",
        "            df[column] = df[column].str.replace(',', '.').astype(float)\n",
        "        except:\n",
        "            pass"
      ],
      "metadata": {
        "trusted": true,
        "execution": {
          "iopub.status.busy": "2025-03-21T14:03:28.742824Z",
          "iopub.execute_input": "2025-03-21T14:03:28.743248Z",
          "iopub.status.idle": "2025-03-21T14:03:35.854319Z",
          "shell.execute_reply.started": "2025-03-21T14:03:28.743215Z",
          "shell.execute_reply": "2025-03-21T14:03:35.853284Z"
        },
        "id": "FEi7lSnXn88a"
      },
      "outputs": [],
      "execution_count": null
    },
    {
      "cell_type": "code",
      "source": [
        "# Identify target variable and fix its name if necessary\n",
        "target_column = '% Silica Concentrate'\n",
        "print(f\"Target variable: {target_column}\")\n",
        "print(f\"Target variable statistics: \\n{df[target_column].describe()}\")\n",
        "print(\"\\n\")"
      ],
      "metadata": {
        "trusted": true,
        "execution": {
          "iopub.status.busy": "2025-03-21T14:03:35.855231Z",
          "iopub.execute_input": "2025-03-21T14:03:35.855558Z",
          "iopub.status.idle": "2025-03-21T14:03:35.895212Z",
          "shell.execute_reply.started": "2025-03-21T14:03:35.85553Z",
          "shell.execute_reply": "2025-03-21T14:03:35.894076Z"
        },
        "id": "pxqMyJO5n88a"
      },
      "outputs": [],
      "execution_count": null
    },
    {
      "cell_type": "code",
      "source": [
        "import seaborn as sns\n",
        "\n",
        "# Histogram with KDE (Kernel Density Estimate)\n",
        "plt.figure(figsize=(10,5))\n",
        "sns.histplot(df['% Silica Concentrate'], bins=30, kde=True)\n",
        "plt.title('% Silica Concentrate Distribution')\n",
        "plt.xlabel('Silica Concentrate')\n",
        "plt.ylabel('Frequency')\n",
        "plt.show()"
      ],
      "metadata": {
        "trusted": true,
        "execution": {
          "iopub.status.busy": "2025-03-21T14:03:35.899049Z",
          "iopub.execute_input": "2025-03-21T14:03:35.89943Z",
          "iopub.status.idle": "2025-03-21T14:03:39.653274Z",
          "shell.execute_reply.started": "2025-03-21T14:03:35.899403Z",
          "shell.execute_reply": "2025-03-21T14:03:39.651822Z"
        },
        "id": "uweKUKJGn88b"
      },
      "outputs": [],
      "execution_count": null
    },
    {
      "cell_type": "code",
      "source": [
        "# Remove rows with missing values in the target column\n",
        "print(f\"Rows before cleaning target: {df.shape[0]}\")\n",
        "df = df.dropna(subset=[target_column])\n",
        "print(f\"Rows after cleaning target: {df.shape[0]}\")"
      ],
      "metadata": {
        "trusted": true,
        "execution": {
          "iopub.status.busy": "2025-03-21T14:03:39.65557Z",
          "iopub.execute_input": "2025-03-21T14:03:39.65589Z",
          "iopub.status.idle": "2025-03-21T14:03:40.117023Z",
          "shell.execute_reply.started": "2025-03-21T14:03:39.655865Z",
          "shell.execute_reply": "2025-03-21T14:03:40.11565Z"
        },
        "id": "xi7D4m7On88b"
      },
      "outputs": [],
      "execution_count": null
    },
    {
      "cell_type": "code",
      "source": [
        "# For remaining columns, impute missing values with median\n",
        "numeric_columns = df.select_dtypes(include=['number']).columns\n",
        "for column in numeric_columns:\n",
        "    if df[column].isnull().sum() > 0:\n",
        "        median_value = df[column].median()\n",
        "        df[column] = df[column].fillna(median_value)\n",
        "        print(f\"Imputed {df[column].isnull().sum()} values in {column} with median: {median_value}\")"
      ],
      "metadata": {
        "trusted": true,
        "execution": {
          "iopub.status.busy": "2025-03-21T14:03:40.119613Z",
          "iopub.execute_input": "2025-03-21T14:03:40.120025Z",
          "iopub.status.idle": "2025-03-21T14:03:40.230815Z",
          "shell.execute_reply.started": "2025-03-21T14:03:40.119956Z",
          "shell.execute_reply": "2025-03-21T14:03:40.229595Z"
        },
        "id": "H39K2Yl_n88b"
      },
      "outputs": [],
      "execution_count": null
    },
    {
      "cell_type": "code",
      "source": [
        "# Check for outliers in target variable using IQR method\n",
        "Q1 = df[target_column].quantile(0.25)\n",
        "Q3 = df[target_column].quantile(0.75)\n",
        "IQR = Q3 - Q1\n",
        "lower_bound = Q1 - 1.5 * IQR\n",
        "upper_bound = Q3 + 1.5 * IQR\n",
        "\n",
        "outliers = df[(df[target_column] < lower_bound) | (df[target_column] > upper_bound)]\n",
        "print(f\"Number of outliers in target variable: {len(outliers)}\")\n",
        "print(f\"Outlier boundaries: Lower = {lower_bound}, Upper = {upper_bound}\")"
      ],
      "metadata": {
        "trusted": true,
        "execution": {
          "iopub.status.busy": "2025-03-21T14:03:40.231935Z",
          "iopub.execute_input": "2025-03-21T14:03:40.232306Z",
          "iopub.status.idle": "2025-03-21T14:03:40.265638Z",
          "shell.execute_reply.started": "2025-03-21T14:03:40.232278Z",
          "shell.execute_reply": "2025-03-21T14:03:40.264355Z"
        },
        "id": "oN9ylZsDn88b"
      },
      "outputs": [],
      "execution_count": null
    },
    {
      "cell_type": "code",
      "source": [
        "# Remove extreme outliers (optional)\n",
        "df = df[(df[target_column] >= lower_bound) & (df[target_column] <= upper_bound)]\n",
        "print(f\"Dataset shape after removing outliers: {df.shape}\")\n"
      ],
      "metadata": {
        "trusted": true,
        "execution": {
          "iopub.status.busy": "2025-03-21T14:03:40.266771Z",
          "iopub.execute_input": "2025-03-21T14:03:40.267136Z",
          "iopub.status.idle": "2025-03-21T14:03:40.324968Z",
          "shell.execute_reply.started": "2025-03-21T14:03:40.267109Z",
          "shell.execute_reply": "2025-03-21T14:03:40.323711Z"
        },
        "id": "ukl6UuF-n88b"
      },
      "outputs": [],
      "execution_count": null
    },
    {
      "cell_type": "code",
      "source": [
        "# Calculate correlations with target variable, excluding non-numeric columns\n",
        "correlations = df.select_dtypes(include=['number']).corr()[target_column].sort_values(ascending=False)\n",
        "print(\"Top correlations with % Silica Concentrate:\")\n",
        "print(correlations.head(10))\n",
        "print(\"\\nBottom correlations with % Silica Concentrate:\")\n",
        "print(correlations.tail(10))\n",
        "print(\"\\n\")"
      ],
      "metadata": {
        "trusted": true,
        "execution": {
          "iopub.status.busy": "2025-03-21T14:03:40.326512Z",
          "iopub.execute_input": "2025-03-21T14:03:40.326946Z",
          "iopub.status.idle": "2025-03-21T14:03:41.554374Z",
          "shell.execute_reply.started": "2025-03-21T14:03:40.326902Z",
          "shell.execute_reply": "2025-03-21T14:03:41.553009Z"
        },
        "id": "sMVeu4BCn88b"
      },
      "outputs": [],
      "execution_count": null
    },
    {
      "cell_type": "code",
      "source": [
        "# Convert 'date' column to datetime if not already\n",
        "df['date'] = pd.to_datetime(df['date'])\n",
        "\n",
        "# Extract only numeric columns\n",
        "numeric_df = df.select_dtypes(include=['number'])\n",
        "\n",
        "# Compute the correlation matrix\n",
        "correlation_matrix = numeric_df.corr()\n",
        "\n",
        "# Optional: create a mask to hide the upper triangle\n",
        "mask = np.triu(np.ones_like(correlation_matrix, dtype=bool))\n",
        "\n",
        "# Plot the heatmap\n",
        "plt.figure(figsize=(12, 10))\n",
        "sns.heatmap(correlation_matrix, mask=mask, annot=True, cmap='coolwarm', linewidths=0.5, vmax=1, vmin=-1)\n",
        "plt.title('Correlation Matrix')\n",
        "plt.savefig('correlation_matrix.png')\n",
        "plt.show()\n"
      ],
      "metadata": {
        "trusted": true,
        "execution": {
          "iopub.status.busy": "2025-03-21T14:03:41.555501Z",
          "iopub.execute_input": "2025-03-21T14:03:41.555903Z",
          "iopub.status.idle": "2025-03-21T14:03:44.073269Z",
          "shell.execute_reply.started": "2025-03-21T14:03:41.555872Z",
          "shell.execute_reply": "2025-03-21T14:03:44.071898Z"
        },
        "id": "4PlEtMoGn88c"
      },
      "outputs": [],
      "execution_count": null
    },
    {
      "cell_type": "code",
      "source": [
        "# Define top positive and negative correlated variables\n",
        "top_positive = ['Amina Flow', '% Silica Feed', 'Ore Pulp Density']\n",
        "top_negative = ['% Iron Concentrate', 'Flotation Column 01 Air Flow', 'Ore Pulp pH']\n",
        "\n",
        "# Create scatter plots\n",
        "fig, axes = plt.subplots(2, 3, figsize=(15, 10))\n",
        "\n",
        "for i, col in enumerate(top_positive):\n",
        "    sns.scatterplot(x=df[col], y=df['% Silica Concentrate'], ax=axes[0, i])\n",
        "    axes[0, i].set_title(f'% Silica vs {col}')\n",
        "\n",
        "for i, col in enumerate(top_negative):\n",
        "    sns.scatterplot(x=df[col], y=df['% Silica Concentrate'], ax=axes[1, i])\n",
        "    axes[1, i].set_title(f'% Silica vs {col}')\n",
        "\n",
        "plt.tight_layout()\n",
        "plt.show()\n"
      ],
      "metadata": {
        "trusted": true,
        "execution": {
          "iopub.status.busy": "2025-03-21T14:03:45.881707Z",
          "iopub.execute_input": "2025-03-21T14:03:45.882027Z",
          "iopub.status.idle": "2025-03-21T14:03:56.201373Z",
          "shell.execute_reply.started": "2025-03-21T14:03:45.882001Z",
          "shell.execute_reply": "2025-03-21T14:03:56.200058Z"
        },
        "id": "aReyAdS3n88c"
      },
      "outputs": [],
      "execution_count": null
    },
    {
      "cell_type": "code",
      "source": [
        "#Create engineered features based on correlations and domain knowledge\n",
        "# Example: Ratios between important features\n",
        "high_corr_features = abs(correlations).sort_values(ascending=False).index[1:6]\n",
        "print(f\"Using top correlated features for engineering: {list(high_corr_features)}\")"
      ],
      "metadata": {
        "trusted": true,
        "execution": {
          "iopub.status.busy": "2025-03-21T14:03:56.202399Z",
          "iopub.execute_input": "2025-03-21T14:03:56.202712Z",
          "iopub.status.idle": "2025-03-21T14:03:56.21004Z",
          "shell.execute_reply.started": "2025-03-21T14:03:56.202684Z",
          "shell.execute_reply": "2025-03-21T14:03:56.208362Z"
        },
        "id": "b8QrkQ4Sn88c"
      },
      "outputs": [],
      "execution_count": null
    },
    {
      "cell_type": "code",
      "source": [
        "# Create ratios and interactions between important features\n",
        "for i, feat1 in enumerate(high_corr_features):\n",
        "    for feat2 in high_corr_features[i+1:]:\n",
        "        # Create ratio\n",
        "        ratio_name = f'{feat1}_to_{feat2}_ratio'\n",
        "        df[ratio_name] = df[feat1] / df[feat2].replace(0, np.nan)\n",
        "        df[ratio_name] = df[ratio_name].replace([np.inf, -np.inf], np.nan).fillna(df[ratio_name].median())\n",
        "\n",
        "        # Create product\n",
        "        product_name = f'{feat1}_x_{feat2}'\n",
        "        df[product_name] = df[feat1] * df[feat2]"
      ],
      "metadata": {
        "trusted": true,
        "execution": {
          "iopub.status.busy": "2025-03-21T14:03:56.211329Z",
          "iopub.execute_input": "2025-03-21T14:03:56.211701Z",
          "iopub.status.idle": "2025-03-21T14:03:56.542632Z",
          "shell.execute_reply.started": "2025-03-21T14:03:56.211667Z",
          "shell.execute_reply": "2025-03-21T14:03:56.541386Z"
        },
        "id": "ggaIRgAdn88c"
      },
      "outputs": [],
      "execution_count": null
    },
    {
      "cell_type": "code",
      "source": [
        "# Create polynomial features for top correlated variables\n",
        "for feature in high_corr_features:\n",
        "    df[f'{feature}_squared'] = df[feature] ** 2\n",
        "\n",
        "print(f\"Dataset shape after feature engineering: {df.shape}\")\n",
        "print(f\"New features added: {df.shape[1] - len(numeric_columns)}\")\n",
        "print(\"\\n\")"
      ],
      "metadata": {
        "trusted": true,
        "execution": {
          "iopub.status.busy": "2025-03-21T14:03:56.54368Z",
          "iopub.execute_input": "2025-03-21T14:03:56.544003Z",
          "iopub.status.idle": "2025-03-21T14:03:56.576689Z",
          "shell.execute_reply.started": "2025-03-21T14:03:56.543955Z",
          "shell.execute_reply": "2025-03-21T14:03:56.575277Z"
        },
        "id": "ybBN5dT3n88c"
      },
      "outputs": [],
      "execution_count": null
    },
    {
      "cell_type": "markdown",
      "source": [
        "#"
      ],
      "metadata": {
        "id": "70hfKYyhn88c"
      }
    },
    {
      "cell_type": "markdown",
      "source": [
        "# Data Splitting"
      ],
      "metadata": {
        "id": "FeetYtrun88d"
      }
    },
    {
      "cell_type": "code",
      "source": [
        "# Define features and target\n",
        "X = df.drop(target_column, axis=1)\n",
        "y = df[target_column]"
      ],
      "metadata": {
        "trusted": true,
        "execution": {
          "iopub.status.busy": "2025-03-21T14:03:56.577824Z",
          "iopub.execute_input": "2025-03-21T14:03:56.578251Z",
          "iopub.status.idle": "2025-03-21T14:03:56.754169Z",
          "shell.execute_reply.started": "2025-03-21T14:03:56.578221Z",
          "shell.execute_reply": "2025-03-21T14:03:56.752943Z"
        },
        "id": "CfyLJJPKn88d"
      },
      "outputs": [],
      "execution_count": null
    },
    {
      "cell_type": "code",
      "source": [
        "# Remove any columns that still have NaN values\n",
        "X = X.select_dtypes(include=['number'])  # Keep only numeric columns\n",
        "X = X.fillna(X.median())  # Final cleaning of any remaining NaN"
      ],
      "metadata": {
        "trusted": true,
        "execution": {
          "iopub.status.busy": "2025-03-21T14:03:56.755273Z",
          "iopub.execute_input": "2025-03-21T14:03:56.755584Z",
          "iopub.status.idle": "2025-03-21T14:03:57.95481Z",
          "shell.execute_reply.started": "2025-03-21T14:03:56.755559Z",
          "shell.execute_reply": "2025-03-21T14:03:57.953423Z"
        },
        "id": "hZ8h8oTun88e"
      },
      "outputs": [],
      "execution_count": null
    },
    {
      "cell_type": "code",
      "source": [
        "# Split data into train, validation, and test sets\n",
        "X_train, X_temp, y_train, y_temp = train_test_split(X, y, test_size=0.3, random_state=42)\n",
        "X_val, X_test, y_val, y_test = train_test_split(X_temp, y_temp, test_size=0.5, random_state=42)"
      ],
      "metadata": {
        "trusted": true,
        "execution": {
          "iopub.status.busy": "2025-03-21T14:03:57.956128Z",
          "iopub.execute_input": "2025-03-21T14:03:57.956554Z",
          "iopub.status.idle": "2025-03-21T14:03:59.039139Z",
          "shell.execute_reply.started": "2025-03-21T14:03:57.956513Z",
          "shell.execute_reply": "2025-03-21T14:03:59.037794Z"
        },
        "id": "DwDoZU0Vn88e"
      },
      "outputs": [],
      "execution_count": null
    },
    {
      "cell_type": "code",
      "source": [
        "print(f\"Training set size: {X_train.shape}\")\n",
        "print(f\"Validation set size: {X_val.shape}\")\n",
        "print(f\"Test set size: {X_test.shape}\")\n",
        "print(\"\\n\")\n"
      ],
      "metadata": {
        "trusted": true,
        "execution": {
          "iopub.status.busy": "2025-03-21T14:03:59.040267Z",
          "iopub.execute_input": "2025-03-21T14:03:59.040747Z",
          "iopub.status.idle": "2025-03-21T14:03:59.048257Z",
          "shell.execute_reply.started": "2025-03-21T14:03:59.040708Z",
          "shell.execute_reply": "2025-03-21T14:03:59.046892Z"
        },
        "id": "M1NcbOv4n88e"
      },
      "outputs": [],
      "execution_count": null
    },
    {
      "cell_type": "markdown",
      "source": [
        "# Model Training"
      ],
      "metadata": {
        "id": "q87fdD_Yn88e"
      }
    },
    {
      "cell_type": "code",
      "source": [
        "# Scale the features\n",
        "scaler = StandardScaler()\n",
        "X_train_scaled = scaler.fit_transform(X_train)\n",
        "X_val_scaled = scaler.transform(X_val)\n",
        "X_test_scaled = scaler.transform(X_test)"
      ],
      "metadata": {
        "trusted": true,
        "execution": {
          "iopub.status.busy": "2025-03-21T14:03:59.049771Z",
          "iopub.execute_input": "2025-03-21T14:03:59.050333Z",
          "iopub.status.idle": "2025-03-21T14:03:59.716186Z",
          "shell.execute_reply.started": "2025-03-21T14:03:59.050288Z",
          "shell.execute_reply": "2025-03-21T14:03:59.714714Z"
        },
        "id": "Wqoq1imkn88e"
      },
      "outputs": [],
      "execution_count": null
    },
    {
      "cell_type": "code",
      "source": [
        "# Initialize models\n",
        "models = {\n",
        "    'Linear Regression': LinearRegression(),\n",
        "    'Random Forest': RandomForestRegressor(random_state=42),\n",
        "    'Gradient Boosting': GradientBoostingRegressor(random_state=42)}"
      ],
      "metadata": {
        "trusted": true,
        "execution": {
          "iopub.status.busy": "2025-03-21T14:03:59.717398Z",
          "iopub.execute_input": "2025-03-21T14:03:59.7178Z",
          "iopub.status.idle": "2025-03-21T14:03:59.723248Z",
          "shell.execute_reply.started": "2025-03-21T14:03:59.71776Z",
          "shell.execute_reply": "2025-03-21T14:03:59.721915Z"
        },
        "id": "8Y1qszUln88e"
      },
      "outputs": [],
      "execution_count": null
    },
    {
      "cell_type": "code",
      "source": [
        "# Train and evaluate each model\n",
        "results = {}\n",
        "\n",
        "for name, model in models.items():\n",
        "    print(f\"Training {name}...\")\n",
        "    model.fit(X_train_scaled, y_train)\n",
        "\n",
        "    # Predict on validation set\n",
        "    y_val_pred = model.predict(X_val_scaled)\n",
        "\n",
        "    # Calculate metrics\n",
        "    val_rmse = np.sqrt(mean_squared_error(y_val, y_val_pred))\n",
        "    val_mae = mean_absolute_error(y_val, y_val_pred)\n",
        "    val_r2 = r2_score(y_val, y_val_pred)\n",
        "\n",
        "    results[name] = {\n",
        "        'model': model,\n",
        "        'val_rmse': val_rmse,\n",
        "        'val_mae': val_mae,\n",
        "        'val_r2': val_r2\n",
        "    }\n",
        "\n",
        "    print(f\"{name} Validation Results:\")\n",
        "    print(f\"  RMSE: {val_rmse:.4f}\")\n",
        "    print(f\"  MAE: {val_mae:.4f}\")\n",
        "    print(f\"  R²: {val_r2:.4f}\")\n",
        "    print()"
      ],
      "metadata": {
        "trusted": true,
        "execution": {
          "iopub.status.busy": "2025-03-21T14:03:59.730259Z",
          "iopub.execute_input": "2025-03-21T14:03:59.730653Z",
          "iopub.status.idle": "2025-03-21T15:34:37.88483Z",
          "shell.execute_reply.started": "2025-03-21T14:03:59.730624Z",
          "shell.execute_reply": "2025-03-21T15:34:37.881807Z"
        },
        "id": "ulPoHkWan88e"
      },
      "outputs": [],
      "execution_count": null
    },
    {
      "cell_type": "code",
      "source": [
        "# Find the best model based on RMSE\n",
        "best_model_name = min(results, key=lambda k: results[k]['val_rmse'])\n",
        "print(f\"Best model based on validation RMSE: {best_model_name}\")\n",
        "print(\"\\n\")"
      ],
      "metadata": {
        "trusted": true,
        "execution": {
          "iopub.status.busy": "2025-03-21T15:34:37.890197Z",
          "iopub.execute_input": "2025-03-21T15:34:37.89074Z",
          "iopub.status.idle": "2025-03-21T15:34:37.901764Z",
          "shell.execute_reply.started": "2025-03-21T15:34:37.890671Z",
          "shell.execute_reply": "2025-03-21T15:34:37.900611Z"
        },
        "id": "eNapmpajn88f"
      },
      "outputs": [],
      "execution_count": null
    },
    {
      "cell_type": "markdown",
      "source": [
        "# Model Optimization"
      ],
      "metadata": {
        "id": "qiD7ldb7n88f"
      }
    },
    {
      "cell_type": "code",
      "source": [
        "# Create a smaller subsample for hyperparameter tuning\n",
        "sample_size = min(10000, X_train.shape[0])  # Use at most 10,000 samples\n",
        "random_indices = np.random.choice(X_train.shape[0], size=sample_size, replace=False)\n",
        "X_train_sample = X_train_scaled[random_indices]\n",
        "y_train_sample = y_train.iloc[random_indices]\n",
        "\n",
        "print(f\"Using {sample_size} samples for hyperparameter optimization\")"
      ],
      "metadata": {
        "trusted": true,
        "execution": {
          "iopub.status.busy": "2025-03-21T15:34:37.902954Z",
          "iopub.execute_input": "2025-03-21T15:34:37.903291Z",
          "iopub.status.idle": "2025-03-21T15:34:37.960403Z",
          "shell.execute_reply.started": "2025-03-21T15:34:37.903265Z",
          "shell.execute_reply": "2025-03-21T15:34:37.959183Z"
        },
        "id": "T4xePxrrn88f"
      },
      "outputs": [],
      "execution_count": null
    },
    {
      "cell_type": "code",
      "source": [
        "# Use RandomizedSearchCV instead of GridSearchCV\n",
        "from sklearn.model_selection import RandomizedSearchCV\n",
        "\n",
        "if best_model_name == 'Linear Regression':\n",
        "    # Limited hyperparameters for Linear Regression\n",
        "    param_dist = {'fit_intercept': [True, False]}\n",
        "\n",
        "elif best_model_name == 'Random Forest':\n",
        "    param_dist = {\n",
        "        'n_estimators': [50, 100],\n",
        "        'max_depth': [None, 10, 20],\n",
        "        'min_samples_split': [2, 5],\n",
        "        'min_samples_leaf': [1, 2]\n",
        "    }\n",
        "\n",
        "else:  # Gradient Boosting\n",
        "    param_dist = {\n",
        "        'n_estimators': [50, 100],\n",
        "        'learning_rate': [0.05, 0.1],\n",
        "        'max_depth': [3, 5],\n",
        "        'min_samples_split': [2, 5],\n",
        "        'min_samples_leaf': [1, 2]\n",
        "    }\n"
      ],
      "metadata": {
        "trusted": true,
        "execution": {
          "iopub.status.busy": "2025-03-21T15:34:37.96128Z",
          "iopub.execute_input": "2025-03-21T15:34:37.961585Z",
          "iopub.status.idle": "2025-03-21T15:34:37.969058Z",
          "shell.execute_reply.started": "2025-03-21T15:34:37.961559Z",
          "shell.execute_reply": "2025-03-21T15:34:37.96758Z"
        },
        "id": "iW-e5sfpn88f"
      },
      "outputs": [],
      "execution_count": null
    },
    {
      "cell_type": "code",
      "source": [
        "# Run random search on a subset of the parameter space with fewer iterations\n",
        "print(f\"Optimizing {best_model_name} hyperparameters...\")\n",
        "random_search = RandomizedSearchCV(\n",
        "    models[best_model_name],\n",
        "    param_distributions=param_dist,\n",
        "    n_iter=10,  # Try only 10 parameter combinations\n",
        "    cv=3,       # Use 3-fold CV instead of 5\n",
        "    scoring='neg_root_mean_squared_error',\n",
        "    n_jobs=-1,\n",
        "    random_state=42\n",
        ")\n",
        "random_search.fit(X_train_sample, y_train_sample)"
      ],
      "metadata": {
        "trusted": true,
        "execution": {
          "iopub.status.busy": "2025-03-21T15:34:37.970271Z",
          "iopub.execute_input": "2025-03-21T15:34:37.970624Z",
          "iopub.status.idle": "2025-03-21T15:39:00.550807Z",
          "shell.execute_reply.started": "2025-03-21T15:34:37.970581Z",
          "shell.execute_reply": "2025-03-21T15:39:00.549488Z"
        },
        "id": "zQnY4iK6n88f"
      },
      "outputs": [],
      "execution_count": null
    },
    {
      "cell_type": "code",
      "source": [
        "# Get best parameters and model\n",
        "best_params = random_search.best_params_\n",
        "print(f\"Best hyperparameters: {best_params}\")"
      ],
      "metadata": {
        "trusted": true,
        "execution": {
          "iopub.status.busy": "2025-03-21T15:39:00.552373Z",
          "iopub.execute_input": "2025-03-21T15:39:00.552692Z",
          "iopub.status.idle": "2025-03-21T15:39:00.559888Z",
          "shell.execute_reply.started": "2025-03-21T15:39:00.552665Z",
          "shell.execute_reply": "2025-03-21T15:39:00.558338Z"
        },
        "id": "lJp1-IG-n88f"
      },
      "outputs": [],
      "execution_count": null
    },
    {
      "cell_type": "code",
      "source": [
        "# Retrain the best model with the optimal parameters on the full training set\n",
        "if best_model_name == 'Linear Regression':\n",
        "    best_model = LinearRegression(**best_params)\n",
        "elif best_model_name == 'Random Forest':\n",
        "    best_model = RandomForestRegressor(**best_params, random_state=42)\n",
        "else:  # Gradient Boosting\n",
        "    best_model = GradientBoostingRegressor(**best_params, random_state=42)"
      ],
      "metadata": {
        "trusted": true,
        "execution": {
          "iopub.status.busy": "2025-03-21T15:39:00.561195Z",
          "iopub.execute_input": "2025-03-21T15:39:00.561678Z",
          "iopub.status.idle": "2025-03-21T15:39:00.584539Z",
          "shell.execute_reply.started": "2025-03-21T15:39:00.561638Z",
          "shell.execute_reply": "2025-03-21T15:39:00.583347Z"
        },
        "id": "lTfAioron88f"
      },
      "outputs": [],
      "execution_count": null
    },
    {
      "cell_type": "code",
      "source": [
        "# Fit the model on the full training dataset\n",
        "best_model.fit(X_train_scaled, y_train)\n",
        "print(f\"Best validation RMSE: {-random_search.best_score_:.4f}\")\n",
        "print(\"\\n\")"
      ],
      "metadata": {
        "trusted": true,
        "execution": {
          "iopub.status.busy": "2025-03-21T15:39:00.58564Z",
          "iopub.execute_input": "2025-03-21T15:39:00.586001Z",
          "iopub.status.idle": "2025-03-21T16:47:36.586408Z",
          "shell.execute_reply.started": "2025-03-21T15:39:00.585949Z",
          "shell.execute_reply": "2025-03-21T16:47:36.583917Z"
        },
        "id": "pkRLU4wRn88f"
      },
      "outputs": [],
      "execution_count": null
    },
    {
      "cell_type": "markdown",
      "source": [
        "# Model Evaluation"
      ],
      "metadata": {
        "id": "PJ4o6zOtn88g"
      }
    },
    {
      "cell_type": "code",
      "source": [
        "# Evaluate best model on test set\n",
        "y_test_pred = best_model.predict(X_test_scaled)"
      ],
      "metadata": {
        "trusted": true,
        "execution": {
          "iopub.status.busy": "2025-03-21T16:47:36.589344Z",
          "iopub.execute_input": "2025-03-21T16:47:36.589815Z",
          "iopub.status.idle": "2025-03-21T16:47:43.336828Z",
          "shell.execute_reply.started": "2025-03-21T16:47:36.589752Z",
          "shell.execute_reply": "2025-03-21T16:47:43.335315Z"
        },
        "id": "8nAjt59fn88m"
      },
      "outputs": [],
      "execution_count": null
    },
    {
      "cell_type": "code",
      "source": [
        "# Calculate metrics\n",
        "test_rmse = np.sqrt(mean_squared_error(y_test, y_test_pred))\n",
        "test_mae = mean_absolute_error(y_test, y_test_pred)\n",
        "test_r2 = r2_score(y_test, y_test_pred)\n",
        "print(f\"Final Model ({best_model_name}) Test Results:\")\n",
        "print(f\"  RMSE: {test_rmse:.4f}\")\n",
        "print(f\"  MAE: {test_mae:.4f}\")\n",
        "print(f\"  R²: {test_r2:.4f}\")\n",
        "print(\"\\n\")"
      ],
      "metadata": {
        "trusted": true,
        "execution": {
          "iopub.status.busy": "2025-03-21T16:47:43.338648Z",
          "iopub.execute_input": "2025-03-21T16:47:43.339395Z",
          "iopub.status.idle": "2025-03-21T16:47:43.369652Z",
          "shell.execute_reply.started": "2025-03-21T16:47:43.339288Z",
          "shell.execute_reply": "2025-03-21T16:47:43.367311Z"
        },
        "id": "spWNyB0Ln88m"
      },
      "outputs": [],
      "execution_count": null
    },
    {
      "cell_type": "code",
      "source": [
        "# Visualize predictions vs actual\n",
        "plt.figure(figsize=(10, 6))\n",
        "plt.scatter(y_test, y_test_pred, alpha=0.5)\n",
        "plt.plot([y_test.min(), y_test.max()], [y_test.min(), y_test.max()], 'r--')\n",
        "plt.xlabel('Actual % Silica Concentrate')\n",
        "plt.ylabel('Predicted % Silica Concentrate')\n",
        "plt.title(f'{best_model_name}: Actual vs Predicted')\n",
        "plt.savefig('actual_vs_predicted.png')\n",
        "plt.show()\n",
        "plt.close()"
      ],
      "metadata": {
        "trusted": true,
        "execution": {
          "iopub.status.busy": "2025-03-21T16:47:43.37125Z",
          "iopub.execute_input": "2025-03-21T16:47:43.371725Z",
          "iopub.status.idle": "2025-03-21T16:47:44.726033Z",
          "shell.execute_reply.started": "2025-03-21T16:47:43.371682Z",
          "shell.execute_reply": "2025-03-21T16:47:44.724324Z"
        },
        "id": "QDA7RK84n88n"
      },
      "outputs": [],
      "execution_count": null
    },
    {
      "cell_type": "code",
      "source": [
        "# Visualize residuals\n",
        "residuals = y_test - y_test_pred\n",
        "plt.figure(figsize=(10, 6))\n",
        "plt.scatter(y_test_pred, residuals, alpha=0.5)\n",
        "plt.axhline(y=0, color='r', linestyle='--')\n",
        "plt.xlabel('Predicted % Silica Concentrate')\n",
        "plt.ylabel('Residuals')\n",
        "plt.title('Residual Plot')\n",
        "plt.savefig('residuals.png')\n",
        "plt.show()\n",
        "plt.close()\n"
      ],
      "metadata": {
        "trusted": true,
        "execution": {
          "iopub.status.busy": "2025-03-21T16:47:44.727926Z",
          "iopub.execute_input": "2025-03-21T16:47:44.728412Z",
          "iopub.status.idle": "2025-03-21T16:47:46.104792Z",
          "shell.execute_reply.started": "2025-03-21T16:47:44.728371Z",
          "shell.execute_reply": "2025-03-21T16:47:46.10333Z"
        },
        "id": "gtmr0UE8n88n"
      },
      "outputs": [],
      "execution_count": null
    },
    {
      "cell_type": "markdown",
      "source": [
        "# Model Importance"
      ],
      "metadata": {
        "id": "p0_PiE9Un88n"
      }
    },
    {
      "cell_type": "code",
      "source": [
        "if best_model_name in ['Random Forest', 'Gradient Boosting']:\n",
        "    # Get feature importance\n",
        "    feature_importances = best_model.feature_importances_\n",
        "    feature_names = X.columns\n",
        "\n",
        "    # Create DataFrame for visualization\n",
        "    importance_df = pd.DataFrame({\n",
        "        'Feature': feature_names,\n",
        "        'Importance': feature_importances\n",
        "    }).sort_values(by='Importance', ascending=False)\n",
        "\n",
        "    # Display top 15 features\n",
        "    print(\"Top 15 most important features:\")\n",
        "    print(importance_df.head(15))\n",
        "\n",
        "    # Visualize feature importance\n",
        "    plt.figure(figsize=(12, 8))\n",
        "    sns.barplot(x='Importance', y='Feature', data=importance_df.head(15))\n",
        "    plt.title(f'Top 15 Feature Importances ({best_model_name})')\n",
        "    plt.tight_layout()\n",
        "    plt.savefig('feature_importance.png')\n",
        "    plt.show()\n",
        "    plt.close()\n",
        "\n",
        "elif best_model_name == 'Linear Regression':\n",
        "    # Get coefficients\n",
        "    coefficients = best_model.coef_\n",
        "    feature_names = X.columns\n",
        "\n",
        "    # Create DataFrame for visualization\n",
        "    coef_df = pd.DataFrame({\n",
        "        'Feature': feature_names,\n",
        "        'Coefficient': coefficients\n",
        "    }).sort_values(by='Coefficient', ascending=False)\n",
        "\n",
        "    # Display top and bottom coefficients\n",
        "    print(\"Top 10 positive coefficients:\")\n",
        "    print(coef_df.head(10))\n",
        "    print(\"\\nTop 10 negative coefficients:\")\n",
        "    print(coef_df.tail(10))\n",
        "\n",
        "    # Visualize coefficients\n",
        "    plt.figure(figsize=(12, 8))\n",
        "    top_coef = pd.concat([coef_df.head(10), coef_df.tail(10)])\n",
        "    sns.barplot(x='Coefficient', y='Feature', data=top_coef)\n",
        "    plt.title('Top 10 Positive and Negative Coeff')\n",
        "    plt.show()"
      ],
      "metadata": {
        "trusted": true,
        "execution": {
          "iopub.status.busy": "2025-03-21T16:47:46.106276Z",
          "iopub.execute_input": "2025-03-21T16:47:46.106611Z",
          "iopub.status.idle": "2025-03-21T16:47:46.945806Z",
          "shell.execute_reply.started": "2025-03-21T16:47:46.106585Z",
          "shell.execute_reply": "2025-03-21T16:47:46.943499Z"
        },
        "id": "ValbjxlTn88n"
      },
      "outputs": [],
      "execution_count": null
    },
    {
      "cell_type": "code",
      "source": [
        "# Get feature importance values\n",
        "importances = model.feature_importances_\n",
        "\n",
        "# Convert feature names to NumPy array\n",
        "feature_names = np.array(feature_names)\n",
        "\n",
        "# Get top 10 important features (highest values)\n",
        "sorted_indices = np.argsort(importances)[-10:]  # Top 10 features\n",
        "\n",
        "# Plot\n",
        "plt.figure(figsize=(10, 6))\n",
        "plt.barh(feature_names[sorted_indices], importances[sorted_indices], color=\"green\")\n",
        "plt.xlabel(\"Feature Importance\")\n",
        "plt.ylabel(\"Feature Names\")\n",
        "plt.title(\"Top 10 Important Features (Gradient Boosting)\")\n",
        "plt.tight_layout()\n",
        "plt.savefig(\"feature_importance.png\")\n",
        "plt.show()\n"
      ],
      "metadata": {
        "trusted": true,
        "execution": {
          "iopub.status.busy": "2025-03-21T16:47:46.946784Z",
          "iopub.execute_input": "2025-03-21T16:47:46.947269Z",
          "iopub.status.idle": "2025-03-21T16:47:47.408433Z",
          "shell.execute_reply.started": "2025-03-21T16:47:46.947224Z",
          "shell.execute_reply": "2025-03-21T16:47:47.406863Z"
        },
        "id": "6uVa65PCn88n"
      },
      "outputs": [],
      "execution_count": null
    },
    {
      "cell_type": "raw",
      "source": [],
      "metadata": {
        "id": "i6UjCryxn88n"
      }
    },
    {
      "cell_type": "markdown",
      "source": [
        "# Learning Curves"
      ],
      "metadata": {
        "id": "MaZ1Cmu1n88n"
      }
    },
    {
      "cell_type": "code",
      "source": [
        "from sklearn.model_selection import learning_curve\n",
        "import pandas as pd\n",
        "import numpy as np\n",
        "\n",
        "# Ensure X_train_scaled is a DataFrame\n",
        "if isinstance(X_train_scaled, np.ndarray):\n",
        "    X_train_scaled = pd.DataFrame(X_train_scaled)\n",
        "\n",
        "# Reset index before sampling\n",
        "X_train_scaled = X_train_scaled.reset_index(drop=True)\n",
        "y_train = y_train.reset_index(drop=True)\n",
        "\n",
        "# Take a random sample of 5000 rows\n",
        "X_train_sample = X_train_scaled\n",
        "\n",
        "# Ensure y_train_sample matches selected indices\n",
        "y_train_sample = y_train.iloc[X_train_sample.index]\n",
        "\n",
        "# Generate learning curve\n",
        "train_sizes, train_scores, val_scores = learning_curve(\n",
        "    best_model,\n",
        "    X_train_sample,\n",
        "    y_train_sample,\n",
        "    train_sizes=np.linspace(0.1, 0.5, 5),\n",
        "    cv=3,\n",
        "    scoring='neg_root_mean_squared_error',\n",
        "    n_jobs=-1\n",
        ")\n"
      ],
      "metadata": {
        "trusted": true,
        "execution": {
          "iopub.status.busy": "2025-03-21T16:47:47.409791Z",
          "iopub.execute_input": "2025-03-21T16:47:47.410243Z",
          "iopub.status.idle": "2025-03-21T17:55:47.518721Z",
          "shell.execute_reply.started": "2025-03-21T16:47:47.410202Z",
          "shell.execute_reply": "2025-03-21T17:55:47.516593Z"
        },
        "id": "dF-PcmWvn88o"
      },
      "outputs": [],
      "execution_count": null
    },
    {
      "cell_type": "code",
      "source": [
        "# Calculate mean and std for training and validation scores\n",
        "train_mean = -np.mean(train_scores, axis=1)\n",
        "train_std = np.std(train_scores, axis=1)\n",
        "val_mean = -np.mean(val_scores, axis=1)\n",
        "val_std = np.std(val_scores, axis=1)\n"
      ],
      "metadata": {
        "trusted": true,
        "execution": {
          "iopub.status.busy": "2025-03-21T17:55:47.520895Z",
          "iopub.execute_input": "2025-03-21T17:55:47.521478Z",
          "iopub.status.idle": "2025-03-21T17:55:47.532513Z",
          "shell.execute_reply.started": "2025-03-21T17:55:47.521413Z",
          "shell.execute_reply": "2025-03-21T17:55:47.531032Z"
        },
        "id": "cVjhBjd8n88o"
      },
      "outputs": [],
      "execution_count": null
    },
    {
      "cell_type": "code",
      "source": [
        "# Plot learning curves\n",
        "plt.figure(figsize=(10, 6))\n",
        "plt.plot(train_sizes, train_mean, 'o-', color='r', label='Training RMSE')\n",
        "plt.plot(train_sizes, val_mean, 'o-', color='g', label='Validation RMSE')\n",
        "plt.fill_between(train_sizes, train_mean - train_std, train_mean + train_std, alpha=0.1, color='r')\n",
        "plt.fill_between(train_sizes, val_mean - val_std, val_mean + val_std, alpha=0.1, color='g')\n",
        "plt.xlabel('Training Examples')\n",
        "plt.ylabel('RMSE')\n",
        "plt.title(f'Learning Curves ({best_model_name})')\n",
        "plt.legend(loc='best')\n",
        "plt.grid(True)\n",
        "plt.savefig('learning_curves.png')\n",
        "plt.show()\n",
        "plt.close()"
      ],
      "metadata": {
        "trusted": true,
        "execution": {
          "iopub.status.busy": "2025-03-21T17:55:47.534056Z",
          "iopub.execute_input": "2025-03-21T17:55:47.534653Z",
          "iopub.status.idle": "2025-03-21T17:55:47.968931Z",
          "shell.execute_reply.started": "2025-03-21T17:55:47.534602Z",
          "shell.execute_reply": "2025-03-21T17:55:47.967818Z"
        },
        "id": "WS_kxBgGn88o"
      },
      "outputs": [],
      "execution_count": null
    },
    {
      "cell_type": "code",
      "source": [
        "print(\"Learning curves generated and saved.\")\n",
        "print(\"\\n\")"
      ],
      "metadata": {
        "trusted": true,
        "execution": {
          "iopub.status.busy": "2025-03-21T17:55:47.970074Z",
          "iopub.execute_input": "2025-03-21T17:55:47.970505Z",
          "iopub.status.idle": "2025-03-21T17:55:47.976519Z",
          "shell.execute_reply.started": "2025-03-21T17:55:47.970465Z",
          "shell.execute_reply": "2025-03-21T17:55:47.975202Z"
        },
        "id": "v9ZTXS61n88o"
      },
      "outputs": [],
      "execution_count": null
    },
    {
      "cell_type": "markdown",
      "source": [
        "# Prediction Intervals"
      ],
      "metadata": {
        "id": "3Rbuo9cqn88o"
      }
    },
    {
      "cell_type": "code",
      "source": [
        "# For Random Forest and Gradient Boosting, we can estimate prediction intervals using quantiles\n",
        "if best_model_name in ['Random Forest', 'Gradient Boosting']:\n",
        "    # Function to calculate prediction intervals for ensemble models\n",
        "    def predict_with_intervals(model, X, percentile=95):\n",
        "        if hasattr(model, 'estimators_'):\n",
        "            preds = []\n",
        "            for estimator in model.estimators_:\n",
        "                preds.append(estimator.predict(X))\n",
        "            preds = np.array(preds)\n",
        "\n",
        "            # Calculate mean and prediction intervals\n",
        "            mean_pred = np.mean(preds, axis=0)\n",
        "            lower_bound = np.percentile(preds, (100 - percentile) / 2, axis=0)\n",
        "            upper_bound = np.percentile(preds, 100 - (100 - percentile) / 2, axis=0)\n",
        "\n",
        "            return mean_pred, lower_bound, upper_bound\n",
        "        else:\n",
        "            return model.predict(X), None, None\n",
        "\n",
        "    # Calculate prediction intervals for test set\n",
        "    mean_pred, lower_bound, upper_bound = predict_with_intervals(best_model, X_test_scaled)\n",
        "\n",
        "    # Calculate coverage (how many true values fall within the prediction interval)\n",
        "    if lower_bound is not None and upper_bound is not None:\n",
        "        coverage = np.mean((y_test >= lower_bound) & (y_test <= upper_bound))\n",
        "        print(f\"95% Prediction interval coverage: {coverage:.2%}\")\n",
        "\n",
        ""
      ],
      "metadata": {
        "trusted": true,
        "execution": {
          "iopub.status.busy": "2025-03-21T17:55:47.977795Z",
          "iopub.execute_input": "2025-03-21T17:55:47.978238Z",
          "iopub.status.idle": "2025-03-21T17:55:54.671056Z",
          "shell.execute_reply.started": "2025-03-21T17:55:47.978196Z",
          "shell.execute_reply": "2025-03-21T17:55:54.6698Z"
        },
        "id": "yyUJk3x5n88o"
      },
      "outputs": [],
      "execution_count": null
    },
    {
      "cell_type": "code",
      "source": [
        "import numpy as np\n",
        "import matplotlib.pyplot as plt\n",
        "\n",
        "# Visualize prediction intervals\n",
        "plt.figure(figsize=(10, 6))\n",
        "\n",
        "# Sort for better visualization\n",
        "idx = np.argsort(y_test)\n",
        "\n",
        "# Use .iloc for positional indexing if y_test is a pandas Series\n",
        "plt.scatter(range(len(y_test)), y_test.iloc[idx], alpha=0.5, label='Actual')\n",
        "plt.scatter(range(len(mean_pred)), mean_pred[idx], alpha=0.5, label='Predicted')\n",
        "plt.fill_between(range(len(lower_bound)), lower_bound[idx], upper_bound[idx], alpha=0.2, label='95% Prediction Interval')\n",
        "\n",
        "plt.xlabel('Sample Index (sorted)')\n",
        "plt.ylabel('% Silica Concentrate')\n",
        "plt.title('Prediction Intervals')\n",
        "plt.legend()\n",
        "plt.savefig('prediction_intervals.png')\n",
        "plt.show()\n",
        "plt.close()"
      ],
      "metadata": {
        "trusted": true,
        "execution": {
          "iopub.status.busy": "2025-03-21T17:55:54.672239Z",
          "iopub.execute_input": "2025-03-21T17:55:54.672567Z",
          "iopub.status.idle": "2025-03-21T17:56:00.544624Z",
          "shell.execute_reply.started": "2025-03-21T17:55:54.672538Z",
          "shell.execute_reply": "2025-03-21T17:56:00.543402Z"
        },
        "id": "C8M5MurQn88o"
      },
      "outputs": [],
      "execution_count": null
    },
    {
      "cell_type": "markdown",
      "source": [
        "# Process Optimization Recommendations"
      ],
      "metadata": {
        "id": "U-RRMgWvn88o"
      }
    },
    {
      "cell_type": "code",
      "source": [
        "# Identify the most important features for process optimization\n",
        "if best_model_name in ['Random Forest', 'Gradient Boosting']:\n",
        "    top_features = importance_df.head(5)['Feature'].tolist()\n",
        "    print(f\"Top 5 most influential features for % Silica Concentrate:\")\n",
        "    for i, feature in enumerate(top_features):\n",
        "        print(f\"{i+1}. {feature}\")\n",
        "\n",
        "    # Analyze optimal ranges for important features\n",
        "    print(\"\\nOptimal ranges for important features:\")\n",
        "    for feature in top_features:\n",
        "        # Create a DataFrame with feature values and target\n",
        "        feature_analysis = pd.DataFrame({\n",
        "            'feature': X[feature],\n",
        "            'target': y\n",
        "        })\n",
        "\n",
        "        # Check for constant values\n",
        "        if feature_analysis['feature'].nunique() <= 1:\n",
        "            print(f\"Skipping feature '{feature}' because it has constant values.\")\n",
        "            continue\n",
        "\n",
        "        # Check for NaN or infinite values\n",
        "        if feature_analysis['feature'].isna().sum() > 0 or feature_analysis['feature'].replace([np.inf, -np.inf], np.nan).isna().sum() > 0:\n",
        "            print(f\"Skipping feature '{feature}' because it contains NaN or infinite values.\")\n",
        "            continue\n",
        "\n",
        "        # Group by feature percentiles and calculate average target\n",
        "        try:\n",
        "            feature_analysis['percentile'] = pd.qcut(feature_analysis['feature'], q=10, labels=False)\n",
        "            grouped = feature_analysis.groupby('percentile')['target'].agg(['mean', 'std', 'count'])\n",
        "            grouped['feature_min'] = [feature_analysis[feature_analysis['percentile']==p]['feature'].min() for p in range(10)]\n",
        "            grouped['feature_max'] = [feature_analysis[feature_analysis['percentile']==p]['feature'].max() for p in range(10)]\n",
        "\n",
        "            # Print optimal ranges\n",
        "            print(f\"\\nFeature: {feature}\")\n",
        "            print(grouped)\n",
        "        except ValueError as e:\n",
        "            print(f\"Error processing feature '{feature}': {e}\")\n"
      ],
      "metadata": {
        "trusted": true,
        "execution": {
          "iopub.status.busy": "2025-03-21T17:56:00.546184Z",
          "iopub.execute_input": "2025-03-21T17:56:00.546627Z",
          "iopub.status.idle": "2025-03-21T17:56:01.392893Z",
          "shell.execute_reply.started": "2025-03-21T17:56:00.546585Z",
          "shell.execute_reply": "2025-03-21T17:56:01.391625Z"
        },
        "id": "2dnIIebXn88p"
      },
      "outputs": [],
      "execution_count": null
    },
    {
      "cell_type": "code",
      "source": [
        "# Find optimal range (with lowest target value for silica concentrate)\n",
        "optimal_group = grouped.sort_values('mean').iloc[0]\n",
        "\n",
        "print(f\"\\n{feature}:\")\n",
        "print(f\"  Optimal range: {optimal_group['feature_min']:.2f} to {optimal_group['feature_max']:.2f}\")\n",
        "print(f\"  Average % Silica Concentrate in this range: {optimal_group['mean']:.2f}%\")\n",
        "print(f\"  Standard deviation: {optimal_group['std']:.2f}\")\n",
        "print(f\"  Number of samples: {optimal_group['count']}\")"
      ],
      "metadata": {
        "trusted": true,
        "execution": {
          "iopub.status.busy": "2025-03-21T17:56:01.393888Z",
          "iopub.execute_input": "2025-03-21T17:56:01.394311Z",
          "iopub.status.idle": "2025-03-21T17:56:01.403265Z",
          "shell.execute_reply.started": "2025-03-21T17:56:01.39427Z",
          "shell.execute_reply": "2025-03-21T17:56:01.402064Z"
        },
        "id": "G2DJ2hl2n88p"
      },
      "outputs": [],
      "execution_count": null
    },
    {
      "cell_type": "code",
      "source": [
        "# Visualize the relationship\n",
        "plt.figure(figsize=(10, 6))\n",
        "plt.errorbar(range(len(grouped)), grouped['mean'], yerr=grouped['std'], fmt='o-')\n",
        "plt.xlabel(f'{feature} (Percentile Groups)')\n",
        "plt.ylabel('Average % Silica Concentrate')\n",
        "plt.title(f'Effect of {feature} on % Silica Concentrate')\n",
        "plt.xticks(range(len(grouped)), [f\"{g['feature_min']:.2f}-{g['feature_max']:.2f}\" for _, g in grouped.iterrows()], rotation=45)\n",
        "plt.grid(True)\n",
        "plt.tight_layout()\n",
        "plt.savefig(f'optimization_{feature}.png')\n",
        "plt.show()\n",
        "plt.close()"
      ],
      "metadata": {
        "trusted": true,
        "execution": {
          "iopub.status.busy": "2025-03-21T17:56:01.404294Z",
          "iopub.execute_input": "2025-03-21T17:56:01.404591Z",
          "iopub.status.idle": "2025-03-21T17:56:01.918384Z",
          "shell.execute_reply.started": "2025-03-21T17:56:01.404558Z",
          "shell.execute_reply": "2025-03-21T17:56:01.917094Z"
        },
        "id": "u5ydwvKcn88p"
      },
      "outputs": [],
      "execution_count": null
    },
    {
      "cell_type": "code",
      "source": [
        "# Calculate interaction effects between top features\n",
        "print(\"\\nInteraction effects between top features:\")\n",
        "for i, feat1 in enumerate(top_features[:2]):  # Loop through the first two features\n",
        "    for feat2 in top_features[i+1:3]:  # Analyze interactions between the top 3 features\n",
        "        # Create a DataFrame to store the interaction data\n",
        "        interaction_df = pd.DataFrame({\n",
        "            'feat1': X[feat1],\n",
        "            'feat2': X[feat2],\n",
        "            'target': y\n",
        "        })\n",
        "\n",
        "        # Plot the interaction effect\n",
        "        plt.figure(figsize=(10, 8))\n",
        "        plt.scatter(interaction_df['feat1'], interaction_df['feat2'], c=interaction_df['target'], cmap='viridis', alpha=0.6)\n",
        "        plt.colorbar(label='% Silica Concentrate')\n",
        "        plt.xlabel(feat1)\n",
        "        plt.ylabel(feat2)\n",
        "        plt.title(f'Interaction Effect: {feat1} vs {feat2}')\n",
        "        plt.show()"
      ],
      "metadata": {
        "trusted": true,
        "execution": {
          "iopub.status.busy": "2025-03-21T17:56:01.919393Z",
          "iopub.execute_input": "2025-03-21T17:56:01.919713Z",
          "iopub.status.idle": "2025-03-21T17:56:41.094081Z",
          "shell.execute_reply.started": "2025-03-21T17:56:01.919687Z",
          "shell.execute_reply": "2025-03-21T17:56:41.092857Z"
        },
        "id": "woygjsS5n88p"
      },
      "outputs": [],
      "execution_count": null
    },
    {
      "cell_type": "code",
      "source": [
        "# Create bins for both features\n",
        "interaction_df['feat1_bin'] = pd.qcut(interaction_df['feat1'], q=5, labels=False)\n",
        "interaction_df['feat2_bin'] = pd.qcut(interaction_df['feat2'], q=5, labels=False)"
      ],
      "metadata": {
        "trusted": true,
        "execution": {
          "iopub.status.busy": "2025-03-21T17:56:41.095374Z",
          "iopub.execute_input": "2025-03-21T17:56:41.095687Z",
          "iopub.status.idle": "2025-03-21T17:56:41.170443Z",
          "shell.execute_reply.started": "2025-03-21T17:56:41.095661Z",
          "shell.execute_reply": "2025-03-21T17:56:41.169125Z"
        },
        "id": "jjNgY24Yn88p"
      },
      "outputs": [],
      "execution_count": null
    },
    {
      "cell_type": "code",
      "source": [
        "# Calculate average target for each combination of binned features\n",
        "pivot = interaction_df.pivot_table(\n",
        "    values='target',\n",
        "    index='feat1_bin',\n",
        "    columns='feat2_bin',\n",
        "    aggfunc='mean'\n",
        ")"
      ],
      "metadata": {
        "trusted": true,
        "execution": {
          "iopub.status.busy": "2025-03-21T17:56:41.1716Z",
          "iopub.execute_input": "2025-03-21T17:56:41.171893Z",
          "iopub.status.idle": "2025-03-21T17:56:41.256558Z",
          "shell.execute_reply.started": "2025-03-21T17:56:41.171868Z",
          "shell.execute_reply": "2025-03-21T17:56:41.255396Z"
        },
        "id": "AaWBKVg2n88p"
      },
      "outputs": [],
      "execution_count": null
    },
    {
      "cell_type": "code",
      "source": [
        "# Plot heatmap\n",
        "sns.heatmap(pivot, annot=True, fmt='.2f', cmap='coolwarm')\n",
        "plt.title(f'Interaction Effect: {feat1} vs {feat2} on % Silica Concentrate')\n",
        "plt.xlabel(f'{feat2} (Percentile Groups)')\n",
        "plt.ylabel(f'{feat1} (Percentile Groups)')\n",
        "plt.tight_layout()\n",
        "plt.savefig(f'interaction_{feat1}_{feat2}.png')\n",
        "plt.show()\n",
        "plt.close()"
      ],
      "metadata": {
        "trusted": true,
        "execution": {
          "iopub.status.busy": "2025-03-21T17:56:41.25788Z",
          "iopub.execute_input": "2025-03-21T17:56:41.258345Z",
          "iopub.status.idle": "2025-03-21T17:56:41.773751Z",
          "shell.execute_reply.started": "2025-03-21T17:56:41.258307Z",
          "shell.execute_reply": "2025-03-21T17:56:41.772349Z"
        },
        "id": "G5bdyVO8n88p"
      },
      "outputs": [],
      "execution_count": null
    },
    {
      "cell_type": "code",
      "source": [
        "print(f\"\\nInteraction between {feat1} and {feat2}:\")\n",
        "min_val = pivot.min().min()\n",
        "min_pos = np.where(pivot.values == min_val)\n",
        "print(f\"  Optimal combination (lowest % Silica Concentrate: {min_val:.2f}%):\")\n",
        "print(f\"  {feat1}: Percentile group {min_pos[0][0]}\")\n",
        "print(f\"  {feat2}: Percentile group {min_pos[1][0]}\")"
      ],
      "metadata": {
        "trusted": true,
        "execution": {
          "iopub.status.busy": "2025-03-21T17:56:41.775159Z",
          "iopub.execute_input": "2025-03-21T17:56:41.77553Z",
          "iopub.status.idle": "2025-03-21T17:56:41.784273Z",
          "shell.execute_reply.started": "2025-03-21T17:56:41.775486Z",
          "shell.execute_reply": "2025-03-21T17:56:41.783235Z"
        },
        "id": "xuTb17fJn88p"
      },
      "outputs": [],
      "execution_count": null
    },
    {
      "cell_type": "markdown",
      "source": [
        "# Process Control Recommendations"
      ],
      "metadata": {
        "id": "9rX_bfM7n88q"
      }
    },
    {
      "cell_type": "code",
      "source": [
        "# Create a function to suggest control recommendations based on model findings\n",
        "def generate_control_recommendations():\n",
        "    recommendations = [\n",
        "        \"Based on the model analysis, here are the key process control recommendations:\",\n",
        "    ]\n",
        "\n",
        "    if best_model_name in ['Random Forest', 'Gradient Boosting']:\n",
        "        # Add recommendations based on feature importance\n",
        "        recommendations.append(\"\\n1. Focus on controlling the following parameters (in order of importance):\")\n",
        "        for i, feature in enumerate(top_features[:5]):\n",
        "            recommendations.append(f\"   - {feature}\")\n",
        "\n",
        "        # Add recommendations based on optimal ranges\n",
        "        recommendations.append(\"\\n2. Maintain process variables within these optimal ranges:\")\n",
        "        for feature in top_features[:3]:\n",
        "            # Get optimal range\n",
        "            feature_analysis = pd.DataFrame({\n",
        "                'feature': X[feature],\n",
        "                'target': y\n",
        "            })\n",
        "            feature_analysis['percentile'] = pd.qcut(feature_analysis['feature'], q=10, labels=False)\n",
        "            grouped = feature_analysis.groupby('percentile')['target'].mean()\n",
        "            best_percentile = grouped.idxmin()\n",
        "\n",
        "            feature_subset = feature_analysis[feature_analysis['percentile'] == best_percentile]\n",
        "            optimal_min = feature_subset['feature'].min()\n",
        "            optimal_max = feature_subset['feature'].max()\n",
        "\n",
        "            recommendations.append(f\"   - {feature}: {optimal_min:.2f} to {optimal_max:.2f}\")\n",
        "\n",
        "        # Add recommendations based on interaction effects\n",
        "        recommendations.append(\"\\n3. Consider the following interaction effects:\")\n",
        "        for i, feat1 in enumerate(top_features[:2]):\n",
        "            for feat2 in top_features[i+1:3]:\n",
        "                recommendations.append(f\"   - Jointly optimize {feat1} and {feat2} for best results\")\n",
        "\n",
        "    # Add general recommendations\n",
        "    recommendations.extend([\n",
        "        \"\\n4. Implement real-time monitoring for the key variables identified\",\n",
        "        \"5. Establish a feedback control system to maintain optimal parameter ranges\",\n",
        "        \"6. Regularly collect and analyze data to update the model and refine recommendations\",\n",
        "        \"7. Consider implementing a predictive maintenance program based on the identified parameters\"\n",
        "    ])\n",
        "\n",
        "    return \"\\n\".join(recommendations)\n"
      ],
      "metadata": {
        "trusted": true,
        "execution": {
          "iopub.status.busy": "2025-03-21T17:56:41.785551Z",
          "iopub.execute_input": "2025-03-21T17:56:41.78589Z",
          "iopub.status.idle": "2025-03-21T17:56:41.802832Z",
          "shell.execute_reply.started": "2025-03-21T17:56:41.785864Z",
          "shell.execute_reply": "2025-03-21T17:56:41.801335Z"
        },
        "id": "Y5W5pSn4n88q"
      },
      "outputs": [],
      "execution_count": null
    },
    {
      "cell_type": "code",
      "source": [
        "# Define the function\n",
        "def generate_control_recommendations():\n",
        "    # Example logic for generating recommendations\n",
        "    recommendations = {\n",
        "        'Increase % Iron Concentrate': 'Higher iron concentration reduces silica levels.',\n",
        "        'Optimize Flotation Column Air Flow': 'Adjust air flow to improve separation efficiency.',\n",
        "        'Monitor % Silica Feed': 'Ensure silica feed levels are within optimal range.'\n",
        "    }\n",
        "    return recommendations\n",
        "\n",
        "# Generate and print recommendations\n",
        "process_recommendations = generate_control_recommendations()\n",
        "print(process_recommendations)"
      ],
      "metadata": {
        "trusted": true,
        "execution": {
          "iopub.status.busy": "2025-03-21T17:56:41.804029Z",
          "iopub.execute_input": "2025-03-21T17:56:41.804558Z",
          "iopub.status.idle": "2025-03-21T17:56:41.833443Z",
          "shell.execute_reply.started": "2025-03-21T17:56:41.804519Z",
          "shell.execute_reply": "2025-03-21T17:56:41.832187Z"
        },
        "id": "B9OCG6vTn88q"
      },
      "outputs": [],
      "execution_count": null
    },
    {
      "cell_type": "markdown",
      "source": [
        "# Final Report"
      ],
      "metadata": {
        "id": "scDMCEjpn88q"
      }
    },
    {
      "cell_type": "code",
      "source": [
        "# Summarize the entire analysis\n",
        "summary = f\"\"\"\n",
        "# Mining Process Flotation Plant Analysis Summary\n",
        "\n",
        "## Key Findings:\n",
        "1. **Top Influential Features**:\n",
        "   - % Iron Concentrate_squared\n",
        "   - % Iron Concentrate\n",
        "   - % Silica Feed\n",
        "   - % Iron Feed\n",
        "   - % Iron Concentrate_x_Flotation Column 01 Air Flow\n",
        "\n",
        "2. **Optimal Ranges**:\n",
        "   - Higher % Iron Concentrate and % Iron Concentrate_squared lead to lower silica levels.\n",
        "   - Optimal air flow in Flotation Column 01 improves separation efficiency.\n",
        "\n",
        "3. **Interaction Effects**:\n",
        "   - The interaction between % Iron Concentrate and Flotation Column 01 Air Flow significantly impacts silica concentration.\n",
        "\n",
        "4. **Recommendations**:\n",
        "   - Increase % Iron Concentrate to reduce silica levels.\n",
        "   - Optimize Flotation Column 01 Air Flow for better separation.\n",
        "   - Monitor % Silica Feed to ensure it stays within the optimal range.\n",
        "\n",
        "## Conclusion:\n",
        "The analysis highlights the importance of controlling iron concentration and flotation column air flow to optimize silica levels in the concentrate. Implementing the recommendations can improve process efficiency and product quality.\n",
        "\"\"\"\n",
        "\n",
        "# Print the summary\n",
        "print(summary)"
      ],
      "metadata": {
        "trusted": true,
        "execution": {
          "iopub.status.busy": "2025-03-21T17:56:41.834697Z",
          "iopub.execute_input": "2025-03-21T17:56:41.835152Z",
          "iopub.status.idle": "2025-03-21T17:56:41.858582Z",
          "shell.execute_reply.started": "2025-03-21T17:56:41.835103Z",
          "shell.execute_reply": "2025-03-21T17:56:41.857301Z"
        },
        "id": "sWDhKM1on88q"
      },
      "outputs": [],
      "execution_count": null
    },
    {
      "cell_type": "code",
      "source": [
        "# Dataset Overview\n",
        "dataset_overview = f\"\"\"\n",
        "## Dataset Overview\n",
        "- Total samples: {df.shape[0]}\n",
        "- Features: {df.shape[1]}\n",
        "- Target variable: {target_column}\n",
        "\"\"\"\n",
        "\n",
        "# Print the dataset overview\n",
        "print(dataset_overview)"
      ],
      "metadata": {
        "trusted": true,
        "execution": {
          "iopub.status.busy": "2025-03-21T17:56:41.85974Z",
          "iopub.execute_input": "2025-03-21T17:56:41.860058Z",
          "iopub.status.idle": "2025-03-21T17:56:41.897567Z",
          "shell.execute_reply.started": "2025-03-21T17:56:41.860027Z",
          "shell.execute_reply": "2025-03-21T17:56:41.896361Z"
        },
        "id": "jGL9YsTin88q"
      },
      "outputs": [],
      "execution_count": null
    },
    {
      "cell_type": "code",
      "source": [
        "# Modeling Results\n",
        "modeling_results = f\"\"\"\n",
        "## Modeling Results\n",
        "- Best model: {best_model_name}\n",
        "- Model performance:\n",
        "  - RMSE: {test_rmse:.4f}\n",
        "  - MAE: {test_mae:.4f}\n",
        "  - R²: {test_r2:.4f}\n",
        "\"\"\"\n",
        "\n",
        "# Print the modeling results\n",
        "print(modeling_results)"
      ],
      "metadata": {
        "trusted": true,
        "execution": {
          "iopub.status.busy": "2025-03-21T17:56:41.898637Z",
          "iopub.execute_input": "2025-03-21T17:56:41.898946Z",
          "iopub.status.idle": "2025-03-21T17:56:41.920856Z",
          "shell.execute_reply.started": "2025-03-21T17:56:41.898919Z",
          "shell.execute_reply": "2025-03-21T17:56:41.919597Z"
        },
        "id": "oFLJxN5In88q"
      },
      "outputs": [],
      "execution_count": null
    },
    {
      "cell_type": "code",
      "source": [
        "## Key Findings\n",
        "Key_Findings = f\"\"\"\n",
        "- The most important features influencing the silica concentrate are:\n",
        "  - {', '.join(top_features[:5]) if 'top_features' in locals() else 'Not available'}\n",
        "- The model explains {test_r2:.2%} of the variance in the silica concentrate percentage\n",
        "\"\"\"\n",
        "print(Key_Findings)\n"
      ],
      "metadata": {
        "trusted": true,
        "execution": {
          "iopub.status.busy": "2025-03-21T17:56:41.921852Z",
          "iopub.execute_input": "2025-03-21T17:56:41.922181Z",
          "iopub.status.idle": "2025-03-21T17:56:41.943921Z",
          "shell.execute_reply.started": "2025-03-21T17:56:41.922155Z",
          "shell.execute_reply": "2025-03-21T17:56:41.942884Z"
        },
        "id": "Rqy9MDkPn88q"
      },
      "outputs": [],
      "execution_count": null
    },
    {
      "cell_type": "code",
      "source": [
        "# Summarize the entire analysis\n",
        "summary = f\"\"\"\n",
        "# Mining Process Flotation Plant Analysis Summary\n",
        "\n",
        "## Key Findings:\n",
        "1. **Top Influential Features**:\n",
        "   - % Iron Concentrate_squared\n",
        "   - % Iron Concentrate\n",
        "   - % Silica Feed\n",
        "   - % Iron Feed\n",
        "   - % Iron Concentrate_x_Flotation Column 01 Air Flow\n",
        "\n",
        "2. **Optimal Ranges**:\n",
        "   - Higher % Iron Concentrate and % Iron Concentrate_squared lead to lower silica levels.\n",
        "   - Optimal air flow in Flotation Column 01 improves separation efficiency.\n",
        "\n",
        "3. **Interaction Effects**:\n",
        "   - The interaction between % Iron Concentrate and Flotation Column 01 Air Flow significantly impacts silica concentration.\n",
        "\n",
        "4. **Process Optimization Recommendations**:\n",
        "{process_recommendations}\n",
        "\n",
        "## Next Steps:\n",
        "1. Implement monitoring systems for the key variables identified.\n",
        "2. Design controlled experiments to validate the optimization recommendations.\n",
        "3. Develop a dashboard for real-time process monitoring and prediction.\n",
        "4. Establish a regular model update schedule to incorporate new data.\n",
        "5. Explore deploying the model as part of a control system.\n",
        "\"\"\"\n",
        "\n",
        "# Print the summary\n",
        "print(summary)"
      ],
      "metadata": {
        "trusted": true,
        "execution": {
          "iopub.status.busy": "2025-03-21T17:56:41.945241Z",
          "iopub.execute_input": "2025-03-21T17:56:41.945572Z",
          "iopub.status.idle": "2025-03-21T17:56:41.966858Z",
          "shell.execute_reply.started": "2025-03-21T17:56:41.945546Z",
          "shell.execute_reply": "2025-03-21T17:56:41.965722Z"
        },
        "id": "C10oUFnNn88r"
      },
      "outputs": [],
      "execution_count": null
    },
    {
      "cell_type": "code",
      "source": [
        " #Save the summary to a file\n",
        "with open('mining_process_analysis_summary.txt', 'w') as f:\n",
        "    f.write(summary)\n",
        "\n",
        "print(\"\\nAnalysis complete. Summary saved to 'mining_process_analysis_summary.txt'\")\n"
      ],
      "metadata": {
        "trusted": true,
        "execution": {
          "iopub.status.busy": "2025-03-21T17:56:41.967816Z",
          "iopub.execute_input": "2025-03-21T17:56:41.968186Z",
          "iopub.status.idle": "2025-03-21T17:56:41.998791Z",
          "shell.execute_reply.started": "2025-03-21T17:56:41.968157Z",
          "shell.execute_reply": "2025-03-21T17:56:41.997511Z"
        },
        "id": "5TH4O1x0n88r"
      },
      "outputs": [],
      "execution_count": null
    },
    {
      "cell_type": "markdown",
      "source": [
        "# Deployment Preparation"
      ],
      "metadata": {
        "id": "yMHm8bC7n88r"
      }
    },
    {
      "cell_type": "code",
      "source": [
        "# Save the model and scaler for deployment\n",
        "import joblib"
      ],
      "metadata": {
        "trusted": true,
        "execution": {
          "iopub.status.busy": "2025-03-21T17:56:42.000303Z",
          "iopub.execute_input": "2025-03-21T17:56:42.000659Z",
          "iopub.status.idle": "2025-03-21T17:56:42.022654Z",
          "shell.execute_reply.started": "2025-03-21T17:56:42.00063Z",
          "shell.execute_reply": "2025-03-21T17:56:42.021318Z"
        },
        "id": "lRbhs_MEn88r"
      },
      "outputs": [],
      "execution_count": null
    },
    {
      "cell_type": "code",
      "source": [
        "# Save the model\n",
        "model_filename = f'mining_process_{best_model_name.lower().replace(\" \", \"_\")}_model.pkl'\n",
        "joblib.dump(best_model, model_filename)\n",
        "print(f\"Model saved as {model_filename}\")"
      ],
      "metadata": {
        "trusted": true,
        "execution": {
          "iopub.status.busy": "2025-03-21T17:56:42.023862Z",
          "iopub.execute_input": "2025-03-21T17:56:42.024295Z",
          "iopub.status.idle": "2025-03-21T17:56:42.89236Z",
          "shell.execute_reply.started": "2025-03-21T17:56:42.024264Z",
          "shell.execute_reply": "2025-03-21T17:56:42.891142Z"
        },
        "id": "XHzGiaApn88r"
      },
      "outputs": [],
      "execution_count": null
    },
    {
      "cell_type": "code",
      "source": [
        "# Save the scaler\n",
        "scaler_filename = 'mining_process_scaler.pkl'\n",
        "joblib.dump(scaler, scaler_filename)\n",
        "print(f\"Scaler saved as {scaler_filename}\")"
      ],
      "metadata": {
        "trusted": true,
        "execution": {
          "iopub.status.busy": "2025-03-21T17:56:42.893487Z",
          "iopub.execute_input": "2025-03-21T17:56:42.893874Z",
          "iopub.status.idle": "2025-03-21T17:56:42.902582Z",
          "shell.execute_reply.started": "2025-03-21T17:56:42.893847Z",
          "shell.execute_reply": "2025-03-21T17:56:42.90112Z"
        },
        "id": "yKPHBTFvn88r"
      },
      "outputs": [],
      "execution_count": null
    },
    {
      "cell_type": "code",
      "source": [
        "# Create a simple prediction function\n",
        "def predict_silica_concentration(data, model_path=model_filename, scaler_path=scaler_filename):\n",
        "    \"\"\"\n",
        "    Make predictions using the saved model.\n",
        "\n",
        "    Parameters:\n",
        "    data (DataFrame): Input features in the same format as the training data\n",
        "    model_path (str): Path to the saved model file\n",
        "    scaler_path (str): Path to the saved scaler file\n",
        "\n",
        "    Returns:\n",
        "    float: Predicted silica concentration percentage\n",
        "    \"\"\"\n",
        "    # Load model and scaler\n",
        "    model = joblib.load(model_path)\n",
        "    scaler = joblib.load(scaler_path)\n",
        "\n",
        "    # Ensure data has the same columns as the training data\n",
        "    required_columns = X.columns\n",
        "    missing_columns = set(required_columns) - set(data.columns)\n",
        "    if missing_columns:\n",
        "        raise ValueError(f\"Missing columns: {missing_columns}\")\n",
        "\n",
        "    # Select and order columns\n",
        "    data = data[required_columns]\n",
        "\n",
        "    # Scale the data\n",
        "    data_scaled = scaler.transform(data)\n",
        "\n",
        "    # Make prediction\n",
        "    prediction = model.predict(data_scaled)\n",
        "\n",
        "    return prediction[0]\n"
      ],
      "metadata": {
        "trusted": true,
        "execution": {
          "iopub.status.busy": "2025-03-21T17:56:42.904213Z",
          "iopub.execute_input": "2025-03-21T17:56:42.904672Z",
          "iopub.status.idle": "2025-03-21T17:56:42.927412Z",
          "shell.execute_reply.started": "2025-03-21T17:56:42.904639Z",
          "shell.execute_reply": "2025-03-21T17:56:42.926137Z"
        },
        "id": "xq0sSHyQn88r"
      },
      "outputs": [],
      "execution_count": null
    },
    {
      "cell_type": "code",
      "source": [
        "# Example usage\n",
        "print(\"\\nExample prediction function:\")\n",
        "print(\"predict_silica_concentration(sample_data)\")"
      ],
      "metadata": {
        "trusted": true,
        "execution": {
          "iopub.status.busy": "2025-03-21T17:56:42.928431Z",
          "iopub.execute_input": "2025-03-21T17:56:42.928843Z",
          "iopub.status.idle": "2025-03-21T17:56:42.96163Z",
          "shell.execute_reply.started": "2025-03-21T17:56:42.928803Z",
          "shell.execute_reply": "2025-03-21T17:56:42.960372Z"
        },
        "id": "lYWrszzqn88r"
      },
      "outputs": [],
      "execution_count": null
    },
    {
      "cell_type": "code",
      "source": [
        "\n",
        "# Save the prediction function in a separate file\n",
        "with open('predict_silica.py', 'w') as f:\n",
        "    f.write(\"\"\"\n",
        "import pandas as pd\n",
        "import joblib\n",
        "\n",
        "def predict_silica_concentration(data, model_path='mining_process_model.pkl', scaler_path='mining_process_scaler.pkl'):\n",
        "    \\\"\\\"\\\"\n",
        "    Make predictions using the saved model.\n",
        "\n",
        "    Parameters:\n",
        "    data (DataFrame): Input features in the same format as the training data\n",
        "    model_path (str): Path to the saved model file\n",
        "    scaler_path (str): Path to the saved scaler file\n",
        "\n",
        "    Returns:\n",
        "    float: Predicted silica concentration percentage\n",
        "    \\\"\\\"\\\"\n",
        "    # Load model and scaler\n",
        "    model = joblib.load(model_path)\n",
        "    scaler = joblib.load(scaler_path)\n",
        "\n",
        "    # Ensure data has all required columns\n",
        "    # Note: This assumes model was trained with the same columns as in the training script\n",
        "    # In a production environment, you would need to store the column names with the model\n",
        "\n",
        "    # Scale the data\n",
        "    data_scaled = scaler.transform(data)\n",
        "\n",
        "    # Make prediction\n",
        "    prediction = model.predict(data_scaled)\n",
        "\n",
        "    return prediction[0]\n",
        "\n",
        "# Example usage:\n",
        "# sample_data = pd.DataFrame({...})  # Sample data with all required columns\n",
        "# predicted_silica = predict_silica_concentration(sample_data)\n",
        "\"\"\")\n",
        "\n",
        "print(\"Prediction function saved to 'predict_silica.py'\")"
      ],
      "metadata": {
        "trusted": true,
        "execution": {
          "iopub.status.busy": "2025-03-21T17:56:42.962906Z",
          "iopub.execute_input": "2025-03-21T17:56:42.963365Z",
          "iopub.status.idle": "2025-03-21T17:56:42.988522Z",
          "shell.execute_reply.started": "2025-03-21T17:56:42.963322Z",
          "shell.execute_reply": "2025-03-21T17:56:42.98721Z"
        },
        "id": "3gjNrOVDn88r"
      },
      "outputs": [],
      "execution_count": null
    },
    {
      "cell_type": "code",
      "source": [
        "#  Conclusion\n",
        "print(\"\\n17. CONCLUSION\")\n",
        "print(\"-------------\")\n",
        "print(f\"Analysis of the mining process flotation plant has been successfully completed.\")\n",
        "print(f\"A {best_model_name} model was developed that can predict the silica concentrate percentage with an RMSE of {test_rmse:.4f}.\")\n",
        "print(f\"The model has an R² of {test_r2:.4f}, indicating it explains {test_r2:.2%} of the variance in the target variable.\")\n",
        "print(\"Key process variables and optimal ranges have been identified to help optimize the flotation process.\")\n",
        "print(\"The model and prediction function have been saved for deployment.\")\n",
        "print(\"\\nThank you for using this analysis script!\")"
      ],
      "metadata": {
        "trusted": true,
        "execution": {
          "iopub.status.busy": "2025-03-21T17:56:42.989764Z",
          "iopub.execute_input": "2025-03-21T17:56:42.99012Z",
          "iopub.status.idle": "2025-03-21T17:56:43.028506Z",
          "shell.execute_reply.started": "2025-03-21T17:56:42.990087Z",
          "shell.execute_reply": "2025-03-21T17:56:43.027109Z"
        },
        "id": "hsrK6XZan88r"
      },
      "outputs": [],
      "execution_count": null
    },
    {
      "cell_type": "code",
      "source": [
        "df.to_csv('/kaggle/working/my_output_file.csv', index=False)  # Saves a CSV file\n"
      ],
      "metadata": {
        "trusted": true,
        "id": "CCQX32San88s"
      },
      "outputs": [],
      "execution_count": null
    }
  ]
}